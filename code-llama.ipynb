{
 "cells": [
  {
   "cell_type": "code",
   "execution_count": 1,
   "id": "a383a7af",
   "metadata": {
    "execution": {
     "iopub.execute_input": "2023-09-04T05:51:21.635762Z",
     "iopub.status.busy": "2023-09-04T05:51:21.635376Z",
     "iopub.status.idle": "2023-09-04T05:51:23.265097Z",
     "shell.execute_reply": "2023-09-04T05:51:23.263949Z"
    },
    "papermill": {
     "duration": 1.639714,
     "end_time": "2023-09-04T05:51:23.267722",
     "exception": false,
     "start_time": "2023-09-04T05:51:21.628008",
     "status": "completed"
    },
    "tags": []
   },
   "outputs": [
    {
     "name": "stdout",
     "output_type": "stream",
     "text": [
      "Cloning into 'codellama'...\r\n",
      "remote: Enumerating objects: 39, done.\u001b[K\r\n",
      "remote: Counting objects: 100% (24/24), done.\u001b[K\r\n",
      "remote: Compressing objects: 100% (20/20), done.\u001b[K\r\n",
      "remote: Total 39 (delta 11), reused 4 (delta 4), pack-reused 15\u001b[K\r\n",
      "Receiving objects: 100% (39/39), 24.41 KiB | 4.88 MiB/s, done.\r\n",
      "Resolving deltas: 100% (11/11), done.\r\n"
     ]
    }
   ],
   "source": [
    "!git clone https://github.com/LivingTheCoderDream/codellama.git"
   ]
  },
  {
   "cell_type": "code",
   "execution_count": 2,
   "id": "758d25ec",
   "metadata": {
    "execution": {
     "iopub.execute_input": "2023-09-04T05:51:23.277439Z",
     "iopub.status.busy": "2023-09-04T05:51:23.277116Z",
     "iopub.status.idle": "2023-09-04T05:51:23.284099Z",
     "shell.execute_reply": "2023-09-04T05:51:23.282820Z"
    },
    "papermill": {
     "duration": 0.014188,
     "end_time": "2023-09-04T05:51:23.286211",
     "exception": false,
     "start_time": "2023-09-04T05:51:23.272023",
     "status": "completed"
    },
    "tags": []
   },
   "outputs": [
    {
     "name": "stdout",
     "output_type": "stream",
     "text": [
      "/kaggle/working/codellama\n"
     ]
    }
   ],
   "source": [
    "%cd codellama"
   ]
  },
  {
   "cell_type": "code",
   "execution_count": 3,
   "id": "8031a26f",
   "metadata": {
    "execution": {
     "iopub.execute_input": "2023-09-04T05:51:23.297523Z",
     "iopub.status.busy": "2023-09-04T05:51:23.296892Z",
     "iopub.status.idle": "2023-09-04T05:51:25.615496Z",
     "shell.execute_reply": "2023-09-04T05:51:25.614323Z"
    },
    "papermill": {
     "duration": 2.328015,
     "end_time": "2023-09-04T05:51:25.618139",
     "exception": false,
     "start_time": "2023-09-04T05:51:23.290124",
     "status": "completed"
    },
    "tags": []
   },
   "outputs": [
    {
     "name": "stdout",
     "output_type": "stream",
     "text": [
      "\r\n",
      "Downloading LICENSE and Acceptable Usage Policy\r\n",
      "--2023-09-04 05:51:24--  https://download2.llamameta.net/LICENSE?Policy=eyJTdGF0ZW1lbnQiOlt7InVuaXF1ZV9oYXNoIjoiZjAzYWpzM2RzeHBuMXVsbmN6ZGtneWdnIiwiUmVzb3VyY2UiOiJodHRwczpcL1wvZG93bmxvYWQyLmxsYW1hbWV0YS5uZXRcLyoiLCJDb25kaXRpb24iOnsiRGF0ZUxlc3NUaGFuIjp7IkFXUzpFcG9jaFRpbWUiOjE2OTM4MzI2Njd9fX1dfQ__&Signature=mjGAqbiR6DUNRW8vQNBo-RrixsadfZK5Sm41kDkbpyEA8SFzYiwIum%7EWwUI5WHvazdWGUZpqzOMZ5LZAB1aTkTjbSiIFpkkhtPaclWpT4jmiN8xuooUB4xj9YrA3X5%7EeTX%7ErA7QRgGKoFHM-zKofXi0xPdaV6eVa%7EFIAGmW9cQYOdSdZjM6UJZ6y3xOr3CnrdxUVYtiy267pV6Dl1wGaO%7Ere7M7LK8FDKVsVRQmetudJbN84XvL1JCSbBXNelUzOtziJ9HJdeob5IFZbA-G2n0l7gS3OFTv6suPZRCqYJuuN1bkTUMjrMBYu5U%7Ej-xivFAd0X%7ESiHGQaLP3XL%7E4L8g__&Key-Pair-Id=K15QRJLYKIFSLZ&Download-Request-ID=992295198643505\r\n",
      "Resolving download2.llamameta.net (download2.llamameta.net)... 13.225.78.2, 13.225.78.68, 13.225.78.16, ...\r\n",
      "Connecting to download2.llamameta.net (download2.llamameta.net)|13.225.78.2|:443... connected.\r\n",
      "HTTP request sent, awaiting response... 200 OK\r\n",
      "Length: 7020 (6.9K) [binary/octet-stream]\r\n",
      "Saving to: ‘./LICENSE’\r\n",
      "\r\n",
      "./LICENSE           100%[===================>]   6.86K  --.-KB/s    in 0s      \r\n",
      "\r\n",
      "2023-09-04 05:51:24 (2.24 GB/s) - ‘./LICENSE’ saved [7020/7020]\r\n",
      "\r\n",
      "--2023-09-04 05:51:24--  https://download2.llamameta.net/USE_POLICY.md?Policy=eyJTdGF0ZW1lbnQiOlt7InVuaXF1ZV9oYXNoIjoiZjAzYWpzM2RzeHBuMXVsbmN6ZGtneWdnIiwiUmVzb3VyY2UiOiJodHRwczpcL1wvZG93bmxvYWQyLmxsYW1hbWV0YS5uZXRcLyoiLCJDb25kaXRpb24iOnsiRGF0ZUxlc3NUaGFuIjp7IkFXUzpFcG9jaFRpbWUiOjE2OTM4MzI2Njd9fX1dfQ__&Signature=mjGAqbiR6DUNRW8vQNBo-RrixsadfZK5Sm41kDkbpyEA8SFzYiwIum%7EWwUI5WHvazdWGUZpqzOMZ5LZAB1aTkTjbSiIFpkkhtPaclWpT4jmiN8xuooUB4xj9YrA3X5%7EeTX%7ErA7QRgGKoFHM-zKofXi0xPdaV6eVa%7EFIAGmW9cQYOdSdZjM6UJZ6y3xOr3CnrdxUVYtiy267pV6Dl1wGaO%7Ere7M7LK8FDKVsVRQmetudJbN84XvL1JCSbBXNelUzOtziJ9HJdeob5IFZbA-G2n0l7gS3OFTv6suPZRCqYJuuN1bkTUMjrMBYu5U%7Ej-xivFAd0X%7ESiHGQaLP3XL%7E4L8g__&Key-Pair-Id=K15QRJLYKIFSLZ&Download-Request-ID=992295198643505\r\n",
      "Resolving download2.llamameta.net (download2.llamameta.net)... 65.9.86.100, 65.9.86.4, 65.9.86.67, ...\r\n",
      "Connecting to download2.llamameta.net (download2.llamameta.net)|65.9.86.100|:443... connected.\r\n",
      "HTTP request sent, awaiting response... 200 OK\r\n",
      "Length: 4790 (4.7K) [text/markdown]\r\n",
      "Saving to: ‘./USE_POLICY.md’\r\n",
      "\r\n",
      "./USE_POLICY.md     100%[===================>]   4.68K  --.-KB/s    in 0s      \r\n",
      "\r\n",
      "2023-09-04 05:51:24 (179 MB/s) - ‘./USE_POLICY.md’ saved [4790/4790]\r\n",
      "\r\n",
      "Downloading CodeLlama-7b\r\n",
      "--2023-09-04 05:51:24--  https://download2.llamameta.net/CodeLlama-7b/consolidated.00.pth?Policy=eyJTdGF0ZW1lbnQiOlt7InVuaXF1ZV9oYXNoIjoiZjAzYWpzM2RzeHBuMXVsbmN6ZGtneWdnIiwiUmVzb3VyY2UiOiJodHRwczpcL1wvZG93bmxvYWQyLmxsYW1hbWV0YS5uZXRcLyoiLCJDb25kaXRpb24iOnsiRGF0ZUxlc3NUaGFuIjp7IkFXUzpFcG9jaFRpbWUiOjE2OTM4MzI2Njd9fX1dfQ__&Signature=mjGAqbiR6DUNRW8vQNBo-RrixsadfZK5Sm41kDkbpyEA8SFzYiwIum%7EWwUI5WHvazdWGUZpqzOMZ5LZAB1aTkTjbSiIFpkkhtPaclWpT4jmiN8xuooUB4xj9YrA3X5%7EeTX%7ErA7QRgGKoFHM-zKofXi0xPdaV6eVa%7EFIAGmW9cQYOdSdZjM6UJZ6y3xOr3CnrdxUVYtiy267pV6Dl1wGaO%7Ere7M7LK8FDKVsVRQmetudJbN84XvL1JCSbBXNelUzOtziJ9HJdeob5IFZbA-G2n0l7gS3OFTv6suPZRCqYJuuN1bkTUMjrMBYu5U%7Ej-xivFAd0X%7ESiHGQaLP3XL%7E4L8g__&Key-Pair-Id=K15QRJLYKIFSLZ&Download-Request-ID=992295198643505\r\n",
      "Resolving download2.llamameta.net (download2.llamameta.net)... 65.9.86.4, 65.9.86.67, 65.9.86.100, ...\r\n",
      "Connecting to download2.llamameta.net (download2.llamameta.net)|65.9.86.4|:443... connected.\r\n",
      "HTTP request sent, awaiting response... 403 Forbidden.\r\n",
      "2023-09-04 05:51:24 ERROR 403: Forbidden..\r\n",
      "\r\n",
      "--2023-09-04 05:51:24--  https://download2.llamameta.net/CodeLlama-7b/params.json?Policy=eyJTdGF0ZW1lbnQiOlt7InVuaXF1ZV9oYXNoIjoiZjAzYWpzM2RzeHBuMXVsbmN6ZGtneWdnIiwiUmVzb3VyY2UiOiJodHRwczpcL1wvZG93bmxvYWQyLmxsYW1hbWV0YS5uZXRcLyoiLCJDb25kaXRpb24iOnsiRGF0ZUxlc3NUaGFuIjp7IkFXUzpFcG9jaFRpbWUiOjE2OTM4MzI2Njd9fX1dfQ__&Signature=mjGAqbiR6DUNRW8vQNBo-RrixsadfZK5Sm41kDkbpyEA8SFzYiwIum%7EWwUI5WHvazdWGUZpqzOMZ5LZAB1aTkTjbSiIFpkkhtPaclWpT4jmiN8xuooUB4xj9YrA3X5%7EeTX%7ErA7QRgGKoFHM-zKofXi0xPdaV6eVa%7EFIAGmW9cQYOdSdZjM6UJZ6y3xOr3CnrdxUVYtiy267pV6Dl1wGaO%7Ere7M7LK8FDKVsVRQmetudJbN84XvL1JCSbBXNelUzOtziJ9HJdeob5IFZbA-G2n0l7gS3OFTv6suPZRCqYJuuN1bkTUMjrMBYu5U%7Ej-xivFAd0X%7ESiHGQaLP3XL%7E4L8g__&Key-Pair-Id=K15QRJLYKIFSLZ&Download-Request-ID=992295198643505\r\n",
      "Resolving download2.llamameta.net (download2.llamameta.net)... 65.9.86.4, 65.9.86.67, 65.9.86.100, ...\r\n",
      "Connecting to download2.llamameta.net (download2.llamameta.net)|65.9.86.4|:443... connected.\r\n",
      "HTTP request sent, awaiting response... 200 OK\r\n",
      "Length: 163 [application/json]\r\n",
      "Saving to: ‘./CodeLlama-7b/params.json’\r\n",
      "\r\n",
      "./CodeLlama-7b/para 100%[===================>]     163  --.-KB/s    in 0s      \r\n",
      "\r\n",
      "2023-09-04 05:51:25 (39.9 MB/s) - ‘./CodeLlama-7b/params.json’ saved [163/163]\r\n",
      "\r\n",
      "--2023-09-04 05:51:25--  https://download2.llamameta.net/CodeLlama-7b/tokenizer.model?Policy=eyJTdGF0ZW1lbnQiOlt7InVuaXF1ZV9oYXNoIjoiZjAzYWpzM2RzeHBuMXVsbmN6ZGtneWdnIiwiUmVzb3VyY2UiOiJodHRwczpcL1wvZG93bmxvYWQyLmxsYW1hbWV0YS5uZXRcLyoiLCJDb25kaXRpb24iOnsiRGF0ZUxlc3NUaGFuIjp7IkFXUzpFcG9jaFRpbWUiOjE2OTM4MzI2Njd9fX1dfQ__&Signature=mjGAqbiR6DUNRW8vQNBo-RrixsadfZK5Sm41kDkbpyEA8SFzYiwIum%7EWwUI5WHvazdWGUZpqzOMZ5LZAB1aTkTjbSiIFpkkhtPaclWpT4jmiN8xuooUB4xj9YrA3X5%7EeTX%7ErA7QRgGKoFHM-zKofXi0xPdaV6eVa%7EFIAGmW9cQYOdSdZjM6UJZ6y3xOr3CnrdxUVYtiy267pV6Dl1wGaO%7Ere7M7LK8FDKVsVRQmetudJbN84XvL1JCSbBXNelUzOtziJ9HJdeob5IFZbA-G2n0l7gS3OFTv6suPZRCqYJuuN1bkTUMjrMBYu5U%7Ej-xivFAd0X%7ESiHGQaLP3XL%7E4L8g__&Key-Pair-Id=K15QRJLYKIFSLZ&Download-Request-ID=992295198643505\r\n",
      "Resolving download2.llamameta.net (download2.llamameta.net)... 65.9.86.4, 65.9.86.67, 65.9.86.100, ...\r\n",
      "Connecting to download2.llamameta.net (download2.llamameta.net)|65.9.86.4|:443... connected.\r\n",
      "HTTP request sent, awaiting response... 200 OK\r\n",
      "Length: 500058 (488K) [binary/octet-stream]\r\n",
      "Saving to: ‘./CodeLlama-7b/tokenizer.model’\r\n",
      "\r\n",
      "./CodeLlama-7b/toke 100%[===================>] 488.34K  --.-KB/s    in 0.02s   \r\n",
      "\r\n",
      "2023-09-04 05:51:25 (26.6 MB/s) - ‘./CodeLlama-7b/tokenizer.model’ saved [500058/500058]\r\n",
      "\r\n",
      "--2023-09-04 05:51:25--  https://download2.llamameta.net/CodeLlama-7b/checklist.chk?Policy=eyJTdGF0ZW1lbnQiOlt7InVuaXF1ZV9oYXNoIjoiZjAzYWpzM2RzeHBuMXVsbmN6ZGtneWdnIiwiUmVzb3VyY2UiOiJodHRwczpcL1wvZG93bmxvYWQyLmxsYW1hbWV0YS5uZXRcLyoiLCJDb25kaXRpb24iOnsiRGF0ZUxlc3NUaGFuIjp7IkFXUzpFcG9jaFRpbWUiOjE2OTM4MzI2Njd9fX1dfQ__&Signature=mjGAqbiR6DUNRW8vQNBo-RrixsadfZK5Sm41kDkbpyEA8SFzYiwIum%7EWwUI5WHvazdWGUZpqzOMZ5LZAB1aTkTjbSiIFpkkhtPaclWpT4jmiN8xuooUB4xj9YrA3X5%7EeTX%7ErA7QRgGKoFHM-zKofXi0xPdaV6eVa%7EFIAGmW9cQYOdSdZjM6UJZ6y3xOr3CnrdxUVYtiy267pV6Dl1wGaO%7Ere7M7LK8FDKVsVRQmetudJbN84XvL1JCSbBXNelUzOtziJ9HJdeob5IFZbA-G2n0l7gS3OFTv6suPZRCqYJuuN1bkTUMjrMBYu5U%7Ej-xivFAd0X%7ESiHGQaLP3XL%7E4L8g__&Key-Pair-Id=K15QRJLYKIFSLZ&Download-Request-ID=992295198643505\r\n",
      "Resolving download2.llamameta.net (download2.llamameta.net)... 65.9.86.4, 65.9.86.67, 65.9.86.100, ...\r\n",
      "Connecting to download2.llamameta.net (download2.llamameta.net)|65.9.86.4|:443... connected.\r\n",
      "HTTP request sent, awaiting response... 200 OK\r\n",
      "Length: 150 [binary/octet-stream]\r\n",
      "Saving to: ‘./CodeLlama-7b/checklist.chk’\r\n",
      "\r\n",
      "./CodeLlama-7b/chec 100%[===================>]     150  --.-KB/s    in 0s      \r\n",
      "\r\n",
      "2023-09-04 05:51:25 (90.8 MB/s) - ‘./CodeLlama-7b/checklist.chk’ saved [150/150]\r\n",
      "\r\n",
      "Checking checksums\r\n",
      "consolidated.00.pth: FAILED\r\n",
      "params.json: OK\r\n",
      "tokenizer.model: OK\r\n",
      "md5sum: WARNING: 1 computed checksum did NOT match\r\n"
     ]
    }
   ],
   "source": [
    "!bash download.sh < inputs.txt"
   ]
  },
  {
   "cell_type": "code",
   "execution_count": 4,
   "id": "9545a520",
   "metadata": {
    "execution": {
     "iopub.execute_input": "2023-09-04T05:51:25.630395Z",
     "iopub.status.busy": "2023-09-04T05:51:25.630071Z",
     "iopub.status.idle": "2023-09-04T05:52:08.225063Z",
     "shell.execute_reply": "2023-09-04T05:52:08.223594Z"
    },
    "papermill": {
     "duration": 42.603927,
     "end_time": "2023-09-04T05:52:08.227605",
     "exception": false,
     "start_time": "2023-09-04T05:51:25.623678",
     "status": "completed"
    },
    "tags": []
   },
   "outputs": [
    {
     "name": "stdout",
     "output_type": "stream",
     "text": [
      "Obtaining file:///kaggle/working/codellama\r\n",
      "  Preparing metadata (setup.py) ... \u001b[?25ldone\r\n",
      "\u001b[?25hRequirement already satisfied: torch in /opt/conda/lib/python3.10/site-packages (from codellama==0.0.1) (2.0.0)\r\n",
      "Collecting fairscale (from codellama==0.0.1)\r\n",
      "  Downloading fairscale-0.4.13.tar.gz (266 kB)\r\n",
      "\u001b[2K     \u001b[90m━━━━━━━━━━━━━━━━━━━━━━━━━━━━━━━━━━━━━━\u001b[0m \u001b[32m266.3/266.3 kB\u001b[0m \u001b[31m12.4 MB/s\u001b[0m eta \u001b[36m0:00:00\u001b[0m\r\n",
      "\u001b[?25h  Installing build dependencies ... \u001b[?25l-\b \b\\\b \b|\b \b/\b \bdone\r\n",
      "\u001b[?25h  Getting requirements to build wheel ... \u001b[?25ldone\r\n",
      "\u001b[?25h  Installing backend dependencies ... \u001b[?25l-\b \b\\\b \bdone\r\n",
      "\u001b[?25h  Preparing metadata (pyproject.toml) ... \u001b[?25l-\b \bdone\r\n",
      "\u001b[?25hCollecting fire (from codellama==0.0.1)\r\n",
      "  Downloading fire-0.5.0.tar.gz (88 kB)\r\n",
      "\u001b[2K     \u001b[90m━━━━━━━━━━━━━━━━━━━━━━━━━━━━━━━━━━━━━━━━\u001b[0m \u001b[32m88.3/88.3 kB\u001b[0m \u001b[31m9.7 MB/s\u001b[0m eta \u001b[36m0:00:00\u001b[0m\r\n",
      "\u001b[?25h  Preparing metadata (setup.py) ... \u001b[?25l-\b \bdone\r\n",
      "\u001b[?25hRequirement already satisfied: sentencepiece in /opt/conda/lib/python3.10/site-packages (from codellama==0.0.1) (0.1.99)\r\n",
      "Requirement already satisfied: numpy>=1.22.0 in /opt/conda/lib/python3.10/site-packages (from fairscale->codellama==0.0.1) (1.23.5)\r\n",
      "Requirement already satisfied: filelock in /opt/conda/lib/python3.10/site-packages (from torch->codellama==0.0.1) (3.12.2)\r\n",
      "Requirement already satisfied: typing-extensions in /opt/conda/lib/python3.10/site-packages (from torch->codellama==0.0.1) (4.6.3)\r\n",
      "Requirement already satisfied: sympy in /opt/conda/lib/python3.10/site-packages (from torch->codellama==0.0.1) (1.12)\r\n",
      "Requirement already satisfied: networkx in /opt/conda/lib/python3.10/site-packages (from torch->codellama==0.0.1) (3.1)\r\n",
      "Requirement already satisfied: jinja2 in /opt/conda/lib/python3.10/site-packages (from torch->codellama==0.0.1) (3.1.2)\r\n",
      "Requirement already satisfied: six in /opt/conda/lib/python3.10/site-packages (from fire->codellama==0.0.1) (1.16.0)\r\n",
      "Requirement already satisfied: termcolor in /opt/conda/lib/python3.10/site-packages (from fire->codellama==0.0.1) (2.3.0)\r\n",
      "Requirement already satisfied: MarkupSafe>=2.0 in /opt/conda/lib/python3.10/site-packages (from jinja2->torch->codellama==0.0.1) (2.1.3)\r\n",
      "Requirement already satisfied: mpmath>=0.19 in /opt/conda/lib/python3.10/site-packages (from sympy->torch->codellama==0.0.1) (1.3.0)\r\n",
      "Building wheels for collected packages: fairscale, fire\r\n",
      "  Building wheel for fairscale (pyproject.toml) ... \u001b[?25l-\b \b\\\b \bdone\r\n",
      "\u001b[?25h  Created wheel for fairscale: filename=fairscale-0.4.13-py3-none-any.whl size=332106 sha256=de7560ea6530360a77af3cccca4f1c0b51ea653c371da016e277e2bdd9b64c96\r\n",
      "  Stored in directory: /root/.cache/pip/wheels/78/a4/c0/fb0a7ef03cff161611c3fa40c6cf898f76e58ec421b88e8cb3\r\n",
      "  Building wheel for fire (setup.py) ... \u001b[?25l-\b \b\\\b \bdone\r\n",
      "\u001b[?25h  Created wheel for fire: filename=fire-0.5.0-py2.py3-none-any.whl size=116932 sha256=20c47ee9277e2fa6fa7eec02cd788d7cd7febb7e1419415dc37d61d5b0bcbf7e\r\n",
      "  Stored in directory: /root/.cache/pip/wheels/90/d4/f7/9404e5db0116bd4d43e5666eaa3e70ab53723e1e3ea40c9a95\r\n",
      "Successfully built fairscale fire\r\n",
      "Installing collected packages: fire, fairscale, codellama\r\n",
      "  Running setup.py develop for codellama\r\n",
      "Successfully installed codellama-0.0.1 fairscale-0.4.13 fire-0.5.0\r\n"
     ]
    }
   ],
   "source": [
    "!pip install -e ."
   ]
  },
  {
   "cell_type": "code",
   "execution_count": 5,
   "id": "0252f166",
   "metadata": {
    "execution": {
     "iopub.execute_input": "2023-09-04T05:52:08.244418Z",
     "iopub.status.busy": "2023-09-04T05:52:08.244089Z",
     "iopub.status.idle": "2023-09-04T05:52:36.672341Z",
     "shell.execute_reply": "2023-09-04T05:52:36.671166Z"
    },
    "papermill": {
     "duration": 28.43969,
     "end_time": "2023-09-04T05:52:36.675040",
     "exception": false,
     "start_time": "2023-09-04T05:52:08.235350",
     "status": "completed"
    },
    "tags": []
   },
   "outputs": [
    {
     "name": "stdout",
     "output_type": "stream",
     "text": [
      "Requirement already satisfied: torch in /opt/conda/lib/python3.10/site-packages (from -r requirements.txt (line 1)) (2.0.0)\r\n",
      "Requirement already satisfied: fairscale in /opt/conda/lib/python3.10/site-packages (from -r requirements.txt (line 2)) (0.4.13)\r\n",
      "Requirement already satisfied: fire in /opt/conda/lib/python3.10/site-packages (from -r requirements.txt (line 3)) (0.5.0)\r\n",
      "Requirement already satisfied: sentencepiece in /opt/conda/lib/python3.10/site-packages (from -r requirements.txt (line 4)) (0.1.99)\r\n",
      "Requirement already satisfied: filelock in /opt/conda/lib/python3.10/site-packages (from torch->-r requirements.txt (line 1)) (3.12.2)\r\n",
      "Requirement already satisfied: typing-extensions in /opt/conda/lib/python3.10/site-packages (from torch->-r requirements.txt (line 1)) (4.6.3)\r\n",
      "Requirement already satisfied: sympy in /opt/conda/lib/python3.10/site-packages (from torch->-r requirements.txt (line 1)) (1.12)\r\n",
      "Requirement already satisfied: networkx in /opt/conda/lib/python3.10/site-packages (from torch->-r requirements.txt (line 1)) (3.1)\r\n",
      "Requirement already satisfied: jinja2 in /opt/conda/lib/python3.10/site-packages (from torch->-r requirements.txt (line 1)) (3.1.2)\r\n",
      "Requirement already satisfied: numpy>=1.22.0 in /opt/conda/lib/python3.10/site-packages (from fairscale->-r requirements.txt (line 2)) (1.23.5)\r\n",
      "Requirement already satisfied: six in /opt/conda/lib/python3.10/site-packages (from fire->-r requirements.txt (line 3)) (1.16.0)\r\n",
      "Requirement already satisfied: termcolor in /opt/conda/lib/python3.10/site-packages (from fire->-r requirements.txt (line 3)) (2.3.0)\r\n",
      "Requirement already satisfied: MarkupSafe>=2.0 in /opt/conda/lib/python3.10/site-packages (from jinja2->torch->-r requirements.txt (line 1)) (2.1.3)\r\n",
      "Requirement already satisfied: mpmath>=0.19 in /opt/conda/lib/python3.10/site-packages (from sympy->torch->-r requirements.txt (line 1)) (1.3.0)\r\n",
      "Collecting black==22.12.0 (from -r dev-requirements.txt (line 1))\r\n",
      "  Downloading black-22.12.0-cp310-cp310-manylinux_2_17_x86_64.manylinux2014_x86_64.whl (1.6 MB)\r\n",
      "\u001b[2K     \u001b[90m━━━━━━━━━━━━━━━━━━━━━━━━━━━━━━━━━━━━━━━━\u001b[0m \u001b[32m1.6/1.6 MB\u001b[0m \u001b[31m17.1 MB/s\u001b[0m eta \u001b[36m0:00:00\u001b[0m\r\n",
      "\u001b[?25hCollecting usort==1.0.5 (from -r dev-requirements.txt (line 2))\r\n",
      "  Downloading usort-1.0.5-py3-none-any.whl (23 kB)\r\n",
      "Collecting ufmt==2.0.1 (from -r dev-requirements.txt (line 3))\r\n",
      "  Downloading ufmt-2.0.1-py3-none-any.whl (21 kB)\r\n",
      "Collecting mypy==1.3.0 (from -r dev-requirements.txt (line 4))\r\n",
      "  Downloading mypy-1.3.0-cp310-cp310-manylinux_2_17_x86_64.manylinux2014_x86_64.whl (12.2 MB)\r\n",
      "\u001b[2K     \u001b[90m━━━━━━━━━━━━━━━━━━━━━━━━━━━━━━━━━━━━━━━━\u001b[0m \u001b[32m12.2/12.2 MB\u001b[0m \u001b[31m64.9 MB/s\u001b[0m eta \u001b[36m0:00:00\u001b[0m\r\n",
      "\u001b[?25hRequirement already satisfied: click>=8.0.0 in /opt/conda/lib/python3.10/site-packages (from black==22.12.0->-r dev-requirements.txt (line 1)) (8.1.7)\r\n",
      "Requirement already satisfied: mypy-extensions>=0.4.3 in /opt/conda/lib/python3.10/site-packages (from black==22.12.0->-r dev-requirements.txt (line 1)) (1.0.0)\r\n",
      "Collecting pathspec>=0.9.0 (from black==22.12.0->-r dev-requirements.txt (line 1))\r\n",
      "  Downloading pathspec-0.11.2-py3-none-any.whl (29 kB)\r\n",
      "Requirement already satisfied: platformdirs>=2 in /opt/conda/lib/python3.10/site-packages (from black==22.12.0->-r dev-requirements.txt (line 1)) (3.10.0)\r\n",
      "Requirement already satisfied: tomli>=1.1.0 in /opt/conda/lib/python3.10/site-packages (from black==22.12.0->-r dev-requirements.txt (line 1)) (2.0.1)\r\n",
      "Requirement already satisfied: attrs>=21.2.0 in /opt/conda/lib/python3.10/site-packages (from usort==1.0.5->-r dev-requirements.txt (line 2)) (23.1.0)\r\n",
      "Collecting LibCST>=0.3.7 (from usort==1.0.5->-r dev-requirements.txt (line 2))\r\n",
      "  Downloading libcst-1.0.1-cp310-cp310-manylinux_2_17_x86_64.manylinux2014_x86_64.whl (2.9 MB)\r\n",
      "\u001b[2K     \u001b[90m━━━━━━━━━━━━━━━━━━━━━━━━━━━━━━━━━━━━━━━━\u001b[0m \u001b[32m2.9/2.9 MB\u001b[0m \u001b[31m48.2 MB/s\u001b[0m eta \u001b[36m0:00:00\u001b[0m\r\n",
      "\u001b[?25hCollecting moreorless>=0.3.0 (from usort==1.0.5->-r dev-requirements.txt (line 2))\r\n",
      "  Downloading moreorless-0.4.0-py2.py3-none-any.whl (9.3 kB)\r\n",
      "Collecting stdlibs>=2021.4.1 (from usort==1.0.5->-r dev-requirements.txt (line 2))\r\n",
      "  Downloading stdlibs-2022.10.9-py3-none-any.whl (49 kB)\r\n",
      "\u001b[2K     \u001b[90m━━━━━━━━━━━━━━━━━━━━━━━━━━━━━━━━━━━━━━━━\u001b[0m \u001b[32m49.3/49.3 kB\u001b[0m \u001b[31m4.4 MB/s\u001b[0m eta \u001b[36m0:00:00\u001b[0m\r\n",
      "\u001b[?25hRequirement already satisfied: toml>=0.10.0 in /opt/conda/lib/python3.10/site-packages (from usort==1.0.5->-r dev-requirements.txt (line 2)) (0.10.2)\r\n",
      "Collecting trailrunner>=1.0 (from usort==1.0.5->-r dev-requirements.txt (line 2))\r\n",
      "  Downloading trailrunner-1.4.0-py3-none-any.whl (11 kB)\r\n",
      "Requirement already satisfied: tomlkit>=0.7.2 in /opt/conda/lib/python3.10/site-packages (from ufmt==2.0.1->-r dev-requirements.txt (line 3)) (0.12.1)\r\n",
      "Requirement already satisfied: typing-extensions>=4.0 in /opt/conda/lib/python3.10/site-packages (from ufmt==2.0.1->-r dev-requirements.txt (line 3)) (4.6.3)\r\n",
      "Requirement already satisfied: typing-inspect>=0.4.0 in /opt/conda/lib/python3.10/site-packages (from LibCST>=0.3.7->usort==1.0.5->-r dev-requirements.txt (line 2)) (0.9.0)\r\n",
      "Requirement already satisfied: pyyaml>=5.2 in /opt/conda/lib/python3.10/site-packages (from LibCST>=0.3.7->usort==1.0.5->-r dev-requirements.txt (line 2)) (6.0)\r\n",
      "Installing collected packages: stdlibs, pathspec, mypy, moreorless, trailrunner, LibCST, black, usort, ufmt\r\n",
      "Successfully installed LibCST-1.0.1 black-22.12.0 moreorless-0.4.0 mypy-1.3.0 pathspec-0.11.2 stdlibs-2022.10.9 trailrunner-1.4.0 ufmt-2.0.1 usort-1.0.5\r\n"
     ]
    }
   ],
   "source": [
    "!pip install -r requirements.txt\n",
    "!pip install -r dev-requirements.txt"
   ]
  }
 ],
 "kernelspec": {
  "display_name": "Python 3",
  "language": "python",
  "name": "python3"
 },
 "language_info": {
  "codemirror_mode": {
   "name": "ipython",
   "version": 3
  },
  "file_extension": ".py",
  "mimetype": "text/x-python",
  "name": "python",
  "nbconvert_exporter": "python",
  "pygments_lexer": "ipython3",
  "version": "3.6.4"
 },
 "metadata": {
  "kernelspec": {
   "display_name": "Python 3",
   "language": "python",
   "name": "python3"
  },
  "language_info": {
   "codemirror_mode": {
    "name": "ipython",
    "version": 3
   },
   "file_extension": ".py",
   "mimetype": "text/x-python",
   "name": "python",
   "nbconvert_exporter": "python",
   "pygments_lexer": "ipython3",
   "version": "3.10.12"
  },
  "papermill": {
   "default_parameters": {},
   "duration": 81.46906,
   "end_time": "2023-09-04T05:52:39.780991",
   "environment_variables": {},
   "exception": null,
   "input_path": "__notebook__.ipynb",
   "output_path": "__notebook__.ipynb",
   "parameters": {},
   "start_time": "2023-09-04T05:51:18.311931",
   "version": "2.4.0"
  }
 },
 "nbformat": 4,
 "nbformat_minor": 5
}
